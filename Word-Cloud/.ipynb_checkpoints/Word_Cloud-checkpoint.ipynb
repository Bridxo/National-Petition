{
 "cells": [
  {
   "cell_type": "code",
   "execution_count": null,
   "metadata": {},
   "outputs": [],
   "source": [
    "!pip install nltk\n",
    "!pip install konlpy\n",
    "!pip install wordcloud"
   ]
  },
  {
   "cell_type": "code",
   "execution_count": 1,
   "metadata": {},
   "outputs": [
    {
     "name": "stderr",
     "output_type": "stream",
     "text": [
      "C:\\ProgramData\\Anaconda3\\lib\\site-packages\\konlpy\\tag\\_okt.py:16: UserWarning: \"Twitter\" has changed to \"Okt\" since KoNLPy v0.4.5.\n",
      "  warn('\"Twitter\" has changed to \"Okt\" since KoNLPy v0.4.5.')\n"
     ]
    }
   ],
   "source": [
    "import matplotlib.pylab as plt\n",
    "%matplotlib inline\n",
    "from wordcloud import WordCloud\n",
    "import nltk\n",
    "from konlpy.corpus import kolaw\n",
    "from konlpy.tag import *\n",
    "import pandas as pd\n",
    "import platform\n",
    "from collections import Counter\n",
    "from matplotlib import font_manager, rc\n",
    "from konlpy.tag import Twitter; t = Twitter()\n",
    "import numpy as np\n",
    "from PIL import Image\n",
    "from wordcloud import ImageColorGenerator"
   ]
  },
  {
   "cell_type": "code",
   "execution_count": 2,
   "metadata": {},
   "outputs": [],
   "source": [
    "df = pd.read_csv(\"../petition_data_all.csv\")"
   ]
  },
  {
   "cell_type": "code",
   "execution_count": 4,
   "metadata": {
    "collapsed": true
   },
   "outputs": [],
   "source": [
    "def fied_names_num(df):\n",
    "    names = list(set(df[\"category\"]))\n",
    "    for name in names:\n",
    "        print(name, \" : \", len(df[df[\"category\"]==name][\"category\"]))"
   ]
  },
  {
   "cell_type": "code",
   "execution_count": 5,
   "metadata": {},
   "outputs": [
    {
     "name": "stdout",
     "output_type": "stream",
     "text": [
      "안전/환경  :  17644\n",
      "교통/건축/국토  :  18859\n",
      "정치개혁  :  29367\n",
      "경제민주화  :  9064\n",
      "반려동물  :  2282\n",
      "저출산/고령화대책  :  1968\n",
      "문화/예술/체육/언론  :  9129\n",
      "일자리  :  13975\n",
      "보건복지  :  14247\n",
      "외교/통일/국방  :  15586\n",
      "기타  :  26413\n",
      "행정  :  11546\n",
      "육아/교육  :  13333\n",
      "성장동력  :  3263\n",
      "인권/성평등  :  18545\n",
      "농산어촌  :  1063\n",
      "미래  :  8925\n"
     ]
    }
   ],
   "source": [
    "fied_names_num(df)"
   ]
  },
  {
   "cell_type": "code",
   "execution_count": 7,
   "metadata": {},
   "outputs": [
    {
     "name": "stdout",
     "output_type": "stream",
     "text": [
      "안전/환경  :  945\n",
      "교통/건축/국토  :  715\n",
      "경제민주화  :  509\n",
      "정치개혁  :  1527\n",
      "반려동물  :  190\n",
      "저출산/고령화대책  :  46\n",
      "문화/예술/체육/언론  :  506\n",
      "일자리  :  304\n",
      "육아/교육  :  953\n",
      "외교/통일/국방  :  532\n",
      "기타  :  1102\n",
      "보건복지  :  714\n",
      "행정  :  510\n",
      "성장동력  :  64\n",
      "인권/성평등  :  1329\n",
      "농산어촌  :  32\n",
      "미래  :  240\n"
     ]
    }
   ],
   "source": [
    "fied_names_num(df[df[\"count\"]>100])"
   ]
  },
  {
   "cell_type": "code",
   "execution_count": 8,
   "metadata": {
    "collapsed": true
   },
   "outputs": [],
   "source": [
    "df = df[df[\"count\"]>100]"
   ]
  },
  {
   "cell_type": "code",
   "execution_count": 10,
   "metadata": {
    "collapsed": true
   },
   "outputs": [],
   "source": [
    "def make_cloud(category, png_name=0):\n",
    "    df1= (df[df[\"category\"]==category])\n",
    "\n",
    "    text = list(df[\"petition_overview\"])\n",
    "    text = ' '.join(text)\n",
    "    \n",
    "    ko_con_text = text\n",
    "    print(len(text))\n",
    "    print(text)\n",
    "    tokens_ko = t.nouns(ko_con_text)\n",
    "    print(\"ok\")\n",
    "    stop_words = ['직','제','저', '이','그','때','및','것이','합니다.','\\\\n',':','','거','수','그' ,\"합\",\"이\",\"있는\",\"있습니다.\",\"것\",\"및\",\"하지만\",\"때문에\"]\n",
    "    tokens_ko = [each_word for each_word in tokens_ko if each_word not in stop_words]\n",
    "\n",
    "    text = ' '.join(tokens_ko)\n",
    "    text\n",
    "    f = open(category+\".txt\", 'w')\n",
    "    f.write(text)\n",
    "    f.close()\n",
    "\n",
    "    ko = nltk.Text(tokens_ko, name= category+' 청원')\n",
    "\n",
    "    font_name = font_manager.FontProperties(fname=\"/usr/share/fonts/truetype/unfonts-core/UnDinaru.ttf\").get_name()\n",
    "    rc('font', family=font_name)\n",
    "    %matplotlib inline\n",
    "\n",
    "    data = ko.vocab().most_common(500)\n",
    "    tmp_data = dict(data)\n",
    "\n",
    "    if(png_name):\n",
    "        korea = np.array(Image.open(\"img/\"+png_name))\n",
    "    else:\n",
    "        korea = np.array(Image.open(\"img/\"+category+\"1.png\"))\n",
    "    image_colors = ImageColorGenerator(korea)\n",
    "\n",
    "    wordcloud = WordCloud(font_path=\"/usr/share/fonts/truetype/unfonts-core/UnDinaru.ttf\",\n",
    "                         relative_scaling = 0.2, mask=korea,\n",
    "                         background_color='white',\n",
    "                          min_font_size=1, max_font_size=40\n",
    "                         ).generate_from_frequencies(tmp_data)\n",
    "    plt.figure(figsize=(30,30))\n",
    "    plt.imshow(wordcloud)\n",
    "    plt.axis(\"off\")\n",
    "    plt.show()"
   ]
  },
  {
   "cell_type": "code",
   "execution_count": null,
   "metadata": {},
   "outputs": [
    {
     "name": "stderr",
     "output_type": "stream",
     "text": [
      "IOPub data rate exceeded.\n",
      "The notebook server will temporarily stop sending output\n",
      "to the client in order to avoid crashing it.\n",
      "To change this limit, set the config variable\n",
      "`--NotebookApp.iopub_data_rate_limit`.\n"
     ]
    }
   ],
   "source": [
    "make_cloud(\"농산어촌\")"
   ]
  },
  {
   "cell_type": "code",
   "execution_count": null,
   "metadata": {
    "collapsed": true
   },
   "outputs": [],
   "source": []
  }
 ],
 "metadata": {
  "kernelspec": {
   "display_name": "Python 3",
   "language": "python",
   "name": "python3"
  },
  "language_info": {
   "codemirror_mode": {
    "name": "ipython",
    "version": 3
   },
   "file_extension": ".py",
   "mimetype": "text/x-python",
   "name": "python",
   "nbconvert_exporter": "python",
   "pygments_lexer": "ipython3",
   "version": "3.6.5"
  }
 },
 "nbformat": 4,
 "nbformat_minor": 2
}
